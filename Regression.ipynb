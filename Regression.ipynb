{
 "cells": [
  {
   "cell_type": "markdown",
   "id": "b5a61ea2",
   "metadata": {},
   "source": [
    "Q1 What is Simple Linear Regression?\n",
    "-  A statistical method used to model the relationship between a dependent variable (Y) and a single independent variable (X)."
   ]
  },
  {
   "cell_type": "markdown",
   "id": "86d65e3f",
   "metadata": {},
   "source": [
    "Q2 What are the key assumptions of Simple Linear Regression?\n",
    "- Linearity, independence, homoscedasticity, normality of residuals, and no multicollinearity."
   ]
  },
  {
   "cell_type": "markdown",
   "id": "474558e1",
   "metadata": {},
   "source": [
    "Q3 What does the coefficient m represent in the equation Y=mX+c?\n",
    "- The slope, indicating the rate of change in Y for a one-unit change in X."
   ]
  },
  {
   "cell_type": "markdown",
   "id": "628a1e8a",
   "metadata": {},
   "source": [
    "Q4 What does the intercept c represent in the equation Y=mX+c?\n",
    "- The intercept c represents the predicted value of Y when X = 0"
   ]
  },
  {
   "cell_type": "markdown",
   "id": "350f540a",
   "metadata": {},
   "source": [
    "Q5 How do we calculate the slope m in Simple Linear Regression?\n",
    "- $$ m = \\frac{\\sum (X_i - \\bar{X}) (Y_i - \\bar{Y})}{\\sum (X_i - \\bar{X})^2} $$"
   ]
  },
  {
   "cell_type": "markdown",
   "id": "5c74e1af",
   "metadata": {},
   "source": [
    "Q6 What is the purpose of the least squares method in Simple Linear Regression?\n",
    "- To minimize the sum of squared residuals "
   ]
  },
  {
   "cell_type": "markdown",
   "id": "7a2c438c",
   "metadata": {},
   "source": [
    "Q7 How is the coefficient of determination $ {R^2} $ interpreted in Simple Linear Regression?\n",
    "- It represents the proportion of variance in Y explained by X (closer to 1 indicates a better fit) "
   ]
  },
  {
   "cell_type": "markdown",
   "id": "4e5aed28",
   "metadata": {},
   "source": [
    "Q8 What is Multiple Linear Regression?\n",
    "- An extension of Simple Linear Regression where multiple independent variables predict the dependent variable."
   ]
  },
  {
   "cell_type": "markdown",
   "id": "594ef3be",
   "metadata": {},
   "source": [
    "Q9 What is the main difference between Simple and Multiple Linear Regression?\n",
    "- Simple regression has one independent variable, whereas multiple regression has two or more."
   ]
  },
  {
   "cell_type": "markdown",
   "id": "90f98015",
   "metadata": {},
   "source": [
    "Q10 What are the key assumptions of Multiple Linear Regression?\n",
    "-  Linearity, independence, homoscedasticity, normality, and no multicollinearity."
   ]
  },
  {
   "cell_type": "markdown",
   "id": "83fb456e",
   "metadata": {},
   "source": [
    "Q11 What is heteroscedasticity, and how does it affect the results of a Multiple Linear Regression model?\n",
    "- It refers to non-constant variance in residuals, leading to inefficient and biased estimates."
   ]
  },
  {
   "cell_type": "markdown",
   "id": "192e7833",
   "metadata": {},
   "source": [
    "Q12 How can you improve a Multiple Linear Regression model with high multicollinearity?\n",
    "- Use techniques like variance inflation factor (VIF) analysis, removing correlated variables, or applying regularization."
   ]
  },
  {
   "cell_type": "markdown",
   "id": "eb4f8f26",
   "metadata": {},
   "source": [
    "Q13 What are some common techniques for transforming categorical variables for use in regression models?\n",
    "-  One-hot encoding, label encoding, and dummy variables."
   ]
  },
  {
   "cell_type": "markdown",
   "id": "5a861378",
   "metadata": {},
   "source": [
    "Q14 What is the role of interaction terms in Multiple Linear Regression?\n",
    "- They capture the combined effect of two or more independent variables on the dependent variable"
   ]
  },
  {
   "cell_type": "markdown",
   "id": "a976d7d1",
   "metadata": {},
   "source": [
    "Q15 How can the interpretation of intercept differ between Simple and Multiple Linear Regression?\n",
    "-  In multiple regression, the intercept represents the predicted value of Y when all independent variables are zero."
   ]
  },
  {
   "cell_type": "markdown",
   "id": "97ad28f5",
   "metadata": {},
   "source": [
    "Q16 What is the significance of the slope in regression analysis, and how does it affect predictions?\n",
    "- It shows how much Y changes with a unit increase in X; a steeper slope indicates a stronger relationship."
   ]
  },
  {
   "cell_type": "markdown",
   "id": "025504f1",
   "metadata": {},
   "source": [
    "Q17 How does the intercept in a regression model provide context for the relationship between variables?\n",
    "- It sets the baseline value for Y when all predictors are zero."
   ]
  },
  {
   "cell_type": "markdown",
   "id": "fd414344",
   "metadata": {},
   "source": [
    "Q18 What are the limitations of using $R^2$ as a sole measure of model performance?\n",
    "- It doesn’t indicate causality, can be misleading with too many predictors, and doesn’t consider overfitting."
   ]
  },
  {
   "cell_type": "markdown",
   "id": "b6f3c972",
   "metadata": {},
   "source": [
    "Q19 How would you interpret a large standard error for a regression coefficient?\n",
    "- It suggests high variability in the coefficient estimate, reducing confidence in predictions."
   ]
  },
  {
   "cell_type": "markdown",
   "id": "9919ae4c",
   "metadata": {},
   "source": [
    "Q20 How can heteroscedasticity be identified in residual plots, and why is it important to address it?\n",
    "- It appears as a funnel shape in residual plots; addressing it ensures reliable standard errors."
   ]
  },
  {
   "cell_type": "markdown",
   "id": "ecfa6d7a",
   "metadata": {},
   "source": [
    "Q21 $What does it mean if a Multiple Linear Regression model has a high R^2 but low adjusted R^2?$\n",
    "- It indicates that adding more variables doesn’t improve the model significantly."
   ]
  },
  {
   "cell_type": "markdown",
   "id": "feb1d3d4",
   "metadata": {},
   "source": [
    "Q22 Why is it important to scale variables in Multiple Linear Regression?\n",
    "- To prevent large-scale differences from dominating the regression coefficients and improve model stability."
   ]
  },
  {
   "cell_type": "markdown",
   "id": "46b63d36",
   "metadata": {},
   "source": [
    "Q23 What is polynomial regression?\n",
    "- A regression technique where the relationship between variables is modeled as an $n^{th}$-degree polynomial."
   ]
  },
  {
   "cell_type": "markdown",
   "id": "ed66639e",
   "metadata": {},
   "source": [
    "Q24 How does polynomial regression differ from linear regression?\n",
    "- It captures non-linear relationships, whereas linear regression assumes a straight-line relationship."
   ]
  },
  {
   "cell_type": "markdown",
   "id": "6bd7506a",
   "metadata": {},
   "source": [
    "Q25 When is polynomial regression used?\n",
    "- When data exhibits a curved or non-linear trend."
   ]
  },
  {
   "cell_type": "markdown",
   "id": "22177fc7",
   "metadata": {},
   "source": [
    "Q26 What is the general equation for polynomial regression?\n",
    "- $$Y = b_0 +b_1X  + b_2X^2 + ...+b_n X^n $$"
   ]
  },
  {
   "cell_type": "markdown",
   "id": "a4171522",
   "metadata": {},
   "source": [
    "Q27 Can polynomial regression be applied to multiple variables?\n",
    "- Yes, it extends to multiple variables (multivariate polynomial regression)"
   ]
  },
  {
   "cell_type": "markdown",
   "id": "671b83cb",
   "metadata": {},
   "source": [
    "Q28 What are the limitations of polynomial regression?\n",
    "- Overfitting, high sensitivity to outliers, and difficulty in interpretation."
   ]
  },
  {
   "cell_type": "markdown",
   "id": "a89aeca7",
   "metadata": {},
   "source": [
    "Q29 What methods can be used to evaluate model fit when selecting the degree of a polynomial?\n",
    "- Cross-validation, adjusted $R^2$, and mean squared error (MSE)."
   ]
  },
  {
   "cell_type": "markdown",
   "id": "bc2ad645",
   "metadata": {},
   "source": [
    "Q30 Why is visualization important in polynomial regression?\n",
    "- It helps in identifying the best polynomial degree and detecting overfitting."
   ]
  },
  {
   "cell_type": "markdown",
   "id": "85cc9916",
   "metadata": {},
   "source": [
    "Q31 How is polynomial regression implemented in Python?\n",
    "- Using PolynomialFeatures from sklearn.preprocessing along with LinearRegression."
   ]
  }
 ],
 "metadata": {
  "language_info": {
   "name": "python"
  }
 },
 "nbformat": 4,
 "nbformat_minor": 5
}
