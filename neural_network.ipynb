{
 "cells": [
  {
   "cell_type": "markdown",
   "id": "a36e791e",
   "metadata": {},
   "source": [
    "Q1. What is deep learning, and how is it connected to artificial intelligence?\n",
    "- Deep learning is a subset of machine learning and artificial intelligence that uses neural networks with many layers to model complex patterns in data."
   ]
  },
  {
   "cell_type": "markdown",
   "id": "be8aa0dc",
   "metadata": {},
   "source": [
    "Q2. What is a neural network, and what are the different types of neural networks?\n",
    "- A neural network is a computational model inspired by the human brain, consisting of interconnected nodes (neurons). Types include feedforward, convolutional, recurrent, and generative adversarial networks."
   ]
  },
  {
   "cell_type": "markdown",
   "id": "a71d0940",
   "metadata": {},
   "source": [
    "Q3. What is the mathematical structure of a neural network?\n",
    "- A neural network is composed of layers of neurons, each performing weighted sums of inputs followed by an activation function, typically represented as matrix multiplications and nonlinearities."
   ]
  },
  {
   "cell_type": "markdown",
   "id": "b61c04c3",
   "metadata": {},
   "source": [
    "Q4. What is an activation function, and why is it essential in neural networks?\n",
    "- An activation function introduces non-linearity into the network, enabling it to learn complex patterns beyond linear relationships."
   ]
  },
  {
   "cell_type": "markdown",
   "id": "36551a4e",
   "metadata": {},
   "source": [
    "Q5. Could you list some common activation functions used in neural networks?\n",
    "- Common activation functions include ReLU, Sigmoid, Tanh, and Softmax."
   ]
  },
  {
   "cell_type": "markdown",
   "id": "98fe2c60",
   "metadata": {},
   "source": [
    "Q6. What is a multilayer neural network?\n",
    "- A multilayer neural network has more than one layer of neurons (hidden layers) between input and output, allowing it to model more complex functions."
   ]
  },
  {
   "cell_type": "markdown",
   "id": "d5dc7109",
   "metadata": {},
   "source": [
    "Q7. What is a loss function, and why is it crucial for neural network training?\n",
    "- A loss function measures the difference between predicted and actual values, guiding the optimization process during training."
   ]
  },
  {
   "cell_type": "markdown",
   "id": "2400d3a8",
   "metadata": {},
   "source": [
    "Q8. What are some common types of loss functions?\n",
    "- Common loss functions include Mean Squared Error, Cross-Entropy Loss, and Hinge Loss."
   ]
  },
  {
   "cell_type": "markdown",
   "id": "bfddf5c6",
   "metadata": {},
   "source": [
    "Q9. How does a neural network learn?\n",
    "- A neural network learns by adjusting its weights using optimization algorithms to minimize the loss function, typically through backpropagation."
   ]
  },
  {
   "cell_type": "markdown",
   "id": "95eefaa0",
   "metadata": {},
   "source": [
    "Q10. What is an optimizer in neural networks, and why is it necessary?\n",
    "- An optimizer updates the weights of the network to minimize the loss function, enabling the network to learn from data."
   ]
  },
  {
   "cell_type": "markdown",
   "id": "fec27e3b",
   "metadata": {},
   "source": [
    "Q11. Could you briefly describe some common optimizers?\n",
    "- Common optimizers include Stochastic Gradient Descent (SGD), Adam, RMSprop, and Adagrad."
   ]
  },
  {
   "cell_type": "markdown",
   "id": "46681b2d",
   "metadata": {},
   "source": [
    "Q12. Can you explain forward and backward propagation in a neural network?\n",
    "- Forward propagation computes the output of the network, while backward propagation calculates gradients and updates weights to minimize loss."
   ]
  },
  {
   "cell_type": "markdown",
   "id": "39e4dfef",
   "metadata": {},
   "source": [
    "Q13. What is weight initialization, and how does it impact training?\n",
    "- Weight initialization sets the starting values of network weights, impacting convergence speed and the ability to escape local minima."
   ]
  },
  {
   "cell_type": "markdown",
   "id": "6ab05a80",
   "metadata": {},
   "source": [
    "Q14. What is the vanishing gradient problem in deep learning?\n",
    "- The vanishing gradient problem occurs when gradients become too small during backpropagation, slowing or stopping learning in deep networks."
   ]
  },
  {
   "cell_type": "markdown",
   "id": "ab01d8a9",
   "metadata": {},
   "source": [
    "Q15. What is the exploding gradient problem?\n",
    "- The exploding gradient problem occurs when gradients become too large, causing unstable updates and potentially diverging weights."
   ]
  },
  {
   "cell_type": "code",
   "execution_count": 13,
   "id": "8e632e12",
   "metadata": {},
   "outputs": [
    {
     "name": "stdout",
     "output_type": "stream",
     "text": [
      "[0, 0, 0, 1]\n"
     ]
    }
   ],
   "source": [
    "# Q16. How do you create a simple perceptron for basic binary classification?\n",
    "import numpy as np\n",
    "class Perceptron:\n",
    "    def __init__(self, input_size):\n",
    "        self.weights = np.zeros(input_size + 1)\n",
    "    def predict(self, x):\n",
    "        x = np.insert(x, 0, 1)\n",
    "        return 1 if np.dot(self.weights, x) > 0 else 0\n",
    "    def train(self, X, y, epochs=10, lr=0.1):\n",
    "        for _ in range(epochs):\n",
    "            for xi, target in zip(X, y):\n",
    "                update = lr * (target - self.predict(xi))\n",
    "                self.weights[1:] += update * xi\n",
    "                self.weights[0] += update\n",
    "# Example usage\n",
    "X = np.array([[0,0],[0,1],[1,0],[1,1]])\n",
    "y = np.array([0,0,0,1])\n",
    "p = Perceptron(2)\n",
    "p.train(X, y)\n",
    "print([p.predict(xi) for xi in X])"
   ]
  },
  {
   "cell_type": "code",
   "execution_count": 14,
   "id": "bd9ef0ff",
   "metadata": {},
   "outputs": [
    {
     "data": {
      "text/html": [
       "<pre style=\"white-space:pre;overflow-x:auto;line-height:normal;font-family:Menlo,'DejaVu Sans Mono',consolas,'Courier New',monospace\"><span style=\"font-weight: bold\">Model: \"sequential_6\"</span>\n",
       "</pre>\n"
      ],
      "text/plain": [
       "\u001b[1mModel: \"sequential_6\"\u001b[0m\n"
      ]
     },
     "metadata": {},
     "output_type": "display_data"
    },
    {
     "data": {
      "text/html": [
       "<pre style=\"white-space:pre;overflow-x:auto;line-height:normal;font-family:Menlo,'DejaVu Sans Mono',consolas,'Courier New',monospace\">┏━━━━━━━━━━━━━━━━━━━━━━━━━━━━━━━━━┳━━━━━━━━━━━━━━━━━━━━━━━━┳━━━━━━━━━━━━━━━┓\n",
       "┃<span style=\"font-weight: bold\"> Layer (type)                    </span>┃<span style=\"font-weight: bold\"> Output Shape           </span>┃<span style=\"font-weight: bold\">       Param # </span>┃\n",
       "┡━━━━━━━━━━━━━━━━━━━━━━━━━━━━━━━━━╇━━━━━━━━━━━━━━━━━━━━━━━━╇━━━━━━━━━━━━━━━┩\n",
       "│ dense_14 (<span style=\"color: #0087ff; text-decoration-color: #0087ff\">Dense</span>)                │ (<span style=\"color: #00d7ff; text-decoration-color: #00d7ff\">None</span>, <span style=\"color: #00af00; text-decoration-color: #00af00\">8</span>)              │            <span style=\"color: #00af00; text-decoration-color: #00af00\">40</span> │\n",
       "├─────────────────────────────────┼────────────────────────┼───────────────┤\n",
       "│ dense_15 (<span style=\"color: #0087ff; text-decoration-color: #0087ff\">Dense</span>)                │ (<span style=\"color: #00d7ff; text-decoration-color: #00d7ff\">None</span>, <span style=\"color: #00af00; text-decoration-color: #00af00\">1</span>)              │             <span style=\"color: #00af00; text-decoration-color: #00af00\">9</span> │\n",
       "└─────────────────────────────────┴────────────────────────┴───────────────┘\n",
       "</pre>\n"
      ],
      "text/plain": [
       "┏━━━━━━━━━━━━━━━━━━━━━━━━━━━━━━━━━┳━━━━━━━━━━━━━━━━━━━━━━━━┳━━━━━━━━━━━━━━━┓\n",
       "┃\u001b[1m \u001b[0m\u001b[1mLayer (type)                   \u001b[0m\u001b[1m \u001b[0m┃\u001b[1m \u001b[0m\u001b[1mOutput Shape          \u001b[0m\u001b[1m \u001b[0m┃\u001b[1m \u001b[0m\u001b[1m      Param #\u001b[0m\u001b[1m \u001b[0m┃\n",
       "┡━━━━━━━━━━━━━━━━━━━━━━━━━━━━━━━━━╇━━━━━━━━━━━━━━━━━━━━━━━━╇━━━━━━━━━━━━━━━┩\n",
       "│ dense_14 (\u001b[38;5;33mDense\u001b[0m)                │ (\u001b[38;5;45mNone\u001b[0m, \u001b[38;5;34m8\u001b[0m)              │            \u001b[38;5;34m40\u001b[0m │\n",
       "├─────────────────────────────────┼────────────────────────┼───────────────┤\n",
       "│ dense_15 (\u001b[38;5;33mDense\u001b[0m)                │ (\u001b[38;5;45mNone\u001b[0m, \u001b[38;5;34m1\u001b[0m)              │             \u001b[38;5;34m9\u001b[0m │\n",
       "└─────────────────────────────────┴────────────────────────┴───────────────┘\n"
      ]
     },
     "metadata": {},
     "output_type": "display_data"
    },
    {
     "data": {
      "text/html": [
       "<pre style=\"white-space:pre;overflow-x:auto;line-height:normal;font-family:Menlo,'DejaVu Sans Mono',consolas,'Courier New',monospace\"><span style=\"font-weight: bold\"> Total params: </span><span style=\"color: #00af00; text-decoration-color: #00af00\">49</span> (196.00 B)\n",
       "</pre>\n"
      ],
      "text/plain": [
       "\u001b[1m Total params: \u001b[0m\u001b[38;5;34m49\u001b[0m (196.00 B)\n"
      ]
     },
     "metadata": {},
     "output_type": "display_data"
    },
    {
     "data": {
      "text/html": [
       "<pre style=\"white-space:pre;overflow-x:auto;line-height:normal;font-family:Menlo,'DejaVu Sans Mono',consolas,'Courier New',monospace\"><span style=\"font-weight: bold\"> Trainable params: </span><span style=\"color: #00af00; text-decoration-color: #00af00\">49</span> (196.00 B)\n",
       "</pre>\n"
      ],
      "text/plain": [
       "\u001b[1m Trainable params: \u001b[0m\u001b[38;5;34m49\u001b[0m (196.00 B)\n"
      ]
     },
     "metadata": {},
     "output_type": "display_data"
    },
    {
     "data": {
      "text/html": [
       "<pre style=\"white-space:pre;overflow-x:auto;line-height:normal;font-family:Menlo,'DejaVu Sans Mono',consolas,'Courier New',monospace\"><span style=\"font-weight: bold\"> Non-trainable params: </span><span style=\"color: #00af00; text-decoration-color: #00af00\">0</span> (0.00 B)\n",
       "</pre>\n"
      ],
      "text/plain": [
       "\u001b[1m Non-trainable params: \u001b[0m\u001b[38;5;34m0\u001b[0m (0.00 B)\n"
      ]
     },
     "metadata": {},
     "output_type": "display_data"
    }
   ],
   "source": [
    "# Q17. How can you build a neural network with one hidden layer using Keras?\n",
    "\n",
    "from tensorflow.keras.models import Sequential\n",
    "from tensorflow.keras.layers import Dense\n",
    "model = Sequential([\n",
    "    Dense(8, activation='relu', input_shape=(4,)),\n",
    "    Dense(1, activation='sigmoid')\n",
    "])\n",
    "model.summary()"
   ]
  },
  {
   "cell_type": "code",
   "execution_count": 15,
   "id": "c625386f",
   "metadata": {},
   "outputs": [],
   "source": [
    "# Q18. How do you initialize weights using the Xavier (Glorot) initialization method in Keras?\n",
    "from tensorflow.keras.initializers import GlorotUniform\n",
    "from tensorflow.keras.layers import Dense\n",
    "layer = Dense(8, activation='relu', kernel_initializer=GlorotUniform())"
   ]
  },
  {
   "cell_type": "code",
   "execution_count": 16,
   "id": "f59c1129",
   "metadata": {},
   "outputs": [],
   "source": [
    "# Q19. How can you apply different activation functions in a neural network in Keras?\n",
    "from tensorflow.keras.models import Sequential\n",
    "from tensorflow.keras.layers import Dense\n",
    "model = Sequential([\n",
    "    Dense(8, activation='relu', input_shape=(4,)),\n",
    "    Dense(8, activation='tanh'),\n",
    "    Dense(1, activation='sigmoid')\n",
    "])"
   ]
  },
  {
   "cell_type": "code",
   "execution_count": 17,
   "id": "5ecd4a49",
   "metadata": {},
   "outputs": [],
   "source": [
    "# Q20. How do you add dropout to a neural network model to prevent overfitting?\n",
    "from tensorflow.keras.models import Sequential\n",
    "from tensorflow.keras.layers import Dense, Dropout\n",
    "model = Sequential([\n",
    "    Dense(8, activation='relu', input_shape=(4,)),\n",
    "    Dropout(0.5),\n",
    "    Dense(1, activation='sigmoid')\n",
    "])"
   ]
  },
  {
   "cell_type": "code",
   "execution_count": 18,
   "id": "7389954a",
   "metadata": {},
   "outputs": [
    {
     "name": "stdout",
     "output_type": "stream",
     "text": [
      "[0.52497919 0.37754067 0.64565631 0.5       ]\n"
     ]
    }
   ],
   "source": [
    "# Q21. How do you manually implement forward propagation in a simple neural network?\n",
    "import numpy as np\n",
    "def sigmoid(x):\n",
    "    return 1 / (1 + np.exp(-x))\n",
    "X = np.array([[0,0],[0,1],[1,0],[1,1]])\n",
    "weights = np.array([0.5, -0.6])\n",
    "bias = 0.1\n",
    "outputs = sigmoid(np.dot(X, weights) + bias)\n",
    "print(outputs)"
   ]
  },
  {
   "cell_type": "code",
   "execution_count": 19,
   "id": "daa22a8a",
   "metadata": {},
   "outputs": [],
   "source": [
    "# Q22. How do you add batch normalization to a neural network model in Keras?\n",
    "from tensorflow.keras.models import Sequential\n",
    "from tensorflow.keras.layers import Dense, BatchNormalization\n",
    "model = Sequential([\n",
    "    Dense(8, activation='relu', input_shape=(4,)),\n",
    "    BatchNormalization(),\n",
    "    Dense(1, activation='sigmoid')\n",
    "])"
   ]
  },
  {
   "cell_type": "code",
   "execution_count": 20,
   "id": "7d0a07fd",
   "metadata": {},
   "outputs": [
    {
     "data": {
      "image/png": "[encoded data removed]",
      "text/plain": [
       "<Figure size 640x480 with 1 Axes>"
      ]
     },
     "metadata": {},
     "output_type": "display_data"
    }
   ],
   "source": [
    "# Q23. How can you visualize the training process with accuracy and loss curves?\n",
    "import matplotlib.pyplot as plt\n",
    "from tensorflow.keras.models import Sequential\n",
    "from tensorflow.keras.layers import Dense\n",
    "import numpy as np\n",
    "X = np.random.rand(100, 4)\n",
    "y = np.random.randint(0, 2, 100)\n",
    "model = Sequential([\n",
    "    Dense(8, activation='relu', input_shape=(4,)),\n",
    "    Dense(1, activation='sigmoid')\n",
    "])\n",
    "model.compile(optimizer='adam', loss='binary_crossentropy', metrics=['accuracy'])\n",
    "history = model.fit(X, y, epochs=10, verbose=0)\n",
    "plt.plot(history.history['loss'], label='Loss')\n",
    "plt.plot(history.history['accuracy'], label='Accuracy')\n",
    "plt.xlabel('Epoch')\n",
    "plt.legend()\n",
    "plt.show()"
   ]
  },
  {
   "cell_type": "code",
   "execution_count": 21,
   "id": "d87b4249",
   "metadata": {},
   "outputs": [],
   "source": [
    "# Q24. How can you use gradient clipping in Keras to control the gradient size and prevent exploding gradients?\n",
    "from tensorflow.keras.optimizers import Adam\n",
    "model.compile(optimizer=Adam(clipvalue=1.0), loss='binary_crossentropy')"
   ]
  },
  {
   "cell_type": "code",
   "execution_count": 22,
   "id": "dcfde4f9",
   "metadata": {},
   "outputs": [],
   "source": [
    "# Q25. How can you create a custom loss function in Keras?\n",
    "import tensorflow as tf\n",
    "def custom_loss(y_true, y_pred):\n",
    "    return tf.reduce_mean(tf.square(y_true - y_pred))\n",
    "model.compile(optimizer='adam', loss=custom_loss)"
   ]
  },
  {
   "cell_type": "code",
   "execution_count": 23,
   "id": "76b42828",
   "metadata": {},
   "outputs": [
    {
     "name": "stdout",
     "output_type": "stream",
     "text": [
      "You must install pydot (`pip install pydot`) for `plot_model` to work.\n"
     ]
    }
   ],
   "source": [
    "# Q26. How can you visualize the structure of a neural network model in Keras?\n",
    "from tensorflow.keras.utils import plot_model\n",
    "from tensorflow.keras.models import Sequential\n",
    "from tensorflow.keras.layers import Dense\n",
    "model = Sequential([\n",
    "    Dense(8, activation='relu', input_shape=(4,)),\n",
    "    Dense(1, activation='sigmoid')\n",
    "])\n",
    "plot_model(model, show_shapes=True, show_layer_names=True)"
   ]
  }
 ],
 "metadata": {
  "kernelspec": {
   "display_name": "Python 3",
   "language": "python",
   "name": "python3"
  },
  "language_info": {
   "codemirror_mode": {
    "name": "ipython",
    "version": 3
   },
   "file_extension": ".py",
   "mimetype": "text/x-python",
   "name": "python",
   "nbconvert_exporter": "python",
   "pygments_lexer": "ipython3",
   "version": "3.10.11"
  }
 },
 "nbformat": 4,
 "nbformat_minor": 5
}
