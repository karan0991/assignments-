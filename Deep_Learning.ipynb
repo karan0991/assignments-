{
 "cells": [
  {
   "cell_type": "markdown",
   "id": "5af186e9",
   "metadata": {},
   "source": [
    "Q1. What is TensorFlow 2.0, and how is it different from TensorFlow 1.x?\n",
    "- TensorFlow 2.0 is a major update to TensorFlow that emphasizes simplicity and ease of use, with features like eager execution by default, tighter integration with Keras, and improved support for distributed training. It removes redundant APIs and is more Pythonic compared to TensorFlow 1.x."
   ]
  },
  {
   "cell_type": "markdown",
   "id": "199266df",
   "metadata": {},
   "source": [
    "Q2. How do you install TensorFlow 2.0?\n",
    "- You can install TensorFlow 2.0 using pip: `pip install tensorflow`."
   ]
  },
  {
   "cell_type": "markdown",
   "id": "61cbc03e",
   "metadata": {},
   "source": [
    "Q3. What is the primary function of the tf.function in TensorFlow 2.0?\n",
    "- `tf.function` is used to convert a Python function into a TensorFlow graph for better performance and deployment."
   ]
  },
  {
   "cell_type": "markdown",
   "id": "8177cd0c",
   "metadata": {},
   "source": [
    "Q4. What is the purpose of the Model class in TensorFlow 2.0?\n",
    "- The `Model` class in TensorFlow 2.0 (from Keras) is used to define and train neural network architectures in a modular and reusable way."
   ]
  },
  {
   "cell_type": "markdown",
   "id": "2f25518e",
   "metadata": {},
   "source": [
    "Q5. How do you create a neural network using TensorFlow 2.0?\n",
    "- You can use the Keras API (`tf.keras.Sequential` or subclassing `tf.keras.Model`) to build and train neural networks in TensorFlow 2.0."
   ]
  },
  {
   "cell_type": "markdown",
   "id": "a0ba1d76",
   "metadata": {},
   "source": [
    "Q6. What is the importance of Tensor Space in TensorFlow?\n",
    "- Tensor space refers to the multi-dimensional array structure (tensors) that TensorFlow uses for all computations, enabling efficient mathematical operations and hardware acceleration."
   ]
  },
  {
   "cell_type": "markdown",
   "id": "0ce08369",
   "metadata": {},
   "source": [
    "Q7. How can TensorBoard be integrated with TensorFlow 2.0?\n",
    "- TensorBoard can be used with TensorFlow 2.0 by adding callbacks during model training to log metrics, visualize graphs, and monitor performance."
   ]
  },
  {
   "cell_type": "markdown",
   "id": "27dc6308",
   "metadata": {},
   "source": [
    "Q8. What is the purpose of TensorFlow Playground?\n",
    "- TensorFlow Playground is an interactive visualization tool for experimenting with neural networks in the browser."
   ]
  },
  {
   "cell_type": "markdown",
   "id": "b0571095",
   "metadata": {},
   "source": [
    "Q9. What is Netron, and how is it useful for deep learning models?\n",
    "- Netron is a viewer for neural network, deep learning, and machine learning models. It helps visualize model architectures and layers."
   ]
  },
  {
   "cell_type": "markdown",
   "id": "b667d1f7",
   "metadata": {},
   "source": [
    "Q10. What is the difference between TensorFlow and PyTorch?\n",
    "- TensorFlow uses static computation graphs (with eager execution as an option in 2.x), while PyTorch uses dynamic computation graphs. PyTorch is often considered more intuitive for research, while TensorFlow is widely used in production."
   ]
  },
  {
   "cell_type": "markdown",
   "id": "b5c2e732",
   "metadata": {},
   "source": [
    "Q11. How do you install PyTorch?\n",
    "- You can install PyTorch using pip: `pip install torch torchvision` or via the official website instructions for your platform."
   ]
  },
  {
   "cell_type": "markdown",
   "id": "eaba298c",
   "metadata": {},
   "source": [
    "Q12. What is the basic structure of a PyTorch neural network?\n",
    "- A PyTorch neural network is typically defined by subclassing `torch.nn.Module` and implementing the `forward` method."
   ]
  },
  {
   "cell_type": "markdown",
   "id": "ff4609c6",
   "metadata": {},
   "source": [
    "Q13. What is the significance of tensors in PyTorch?\n",
    "- Tensors are the fundamental data structure in PyTorch, enabling efficient computation and GPU acceleration."
   ]
  },
  {
   "cell_type": "markdown",
   "id": "c8a705f4",
   "metadata": {},
   "source": [
    "Q14. What is the difference between torch.Tensor and torch.cuda.Tensor in PyTorch?\n",
    "- `torch.Tensor` is stored on the CPU, while `torch.cuda.Tensor` is stored on the GPU for faster computation."
   ]
  },
  {
   "cell_type": "markdown",
   "id": "0734eeb0",
   "metadata": {},
   "source": [
    "Q15. What is the purpose of the torch.optim module in PyTorch?\n",
    "- `torch.optim` provides optimization algorithms (like SGD, Adam) for training neural networks."
   ]
  },
  {
   "cell_type": "markdown",
   "id": "4bc9ddc3",
   "metadata": {},
   "source": [
    "Q16. What are some common activation functions used in neural networks?\n",
    "- Common activation functions include ReLU, Sigmoid, Tanh, and Softmax."
   ]
  },
  {
   "cell_type": "markdown",
   "id": "db6d0e69",
   "metadata": {},
   "source": [
    "Q17. What is the difference between torch.nn.Module and torch.nn.Sequential in PyTorch?\n",
    "- `torch.nn.Module` is the base class for all neural network modules, while `torch.nn.Sequential` is a container to combine modules in a sequential order."
   ]
  },
  {
   "cell_type": "markdown",
   "id": "a26c98f5",
   "metadata": {},
   "source": [
    "Q18. How can you monitor training progress in TensorFlow 2.0?\n",
    "- You can monitor training progress using callbacks like `tf.keras.callbacks.TensorBoard` or by printing metrics during training."
   ]
  },
  {
   "cell_type": "markdown",
   "id": "1c532d84",
   "metadata": {},
   "source": [
    "Q19. How does the Keras API fit into TensorFlow 2.0?\n",
    "- Keras is the official high-level API of TensorFlow 2.0, making model building and training easier and more user-friendly."
   ]
  },
  {
   "cell_type": "markdown",
   "id": "866ef124",
   "metadata": {},
   "source": [
    "Q20. What is an example of a deep learning project that can be implemented using TensorFlow 2.0?\n",
    "- Image classification, text sentiment analysis, and object detection are common deep learning projects using TensorFlow 2.0."
   ]
  },
  {
   "cell_type": "markdown",
   "id": "f7f37fd6",
   "metadata": {},
   "source": [
    "Q21. What is the main advantage of using pre-trained models in TensorFlow and PyTorch?\n",
    "- Pre-trained models save time and resources by leveraging models trained on large datasets, enabling transfer learning for new tasks."
   ]
  },
  {
   "cell_type": "code",
   "execution_count": 18,
   "id": "d581a939",
   "metadata": {},
   "outputs": [
    {
     "name": "stdout",
     "output_type": "stream",
     "text": [
      "Requirement already satisfied: tensorflow in c:\\users\\karan\\.pyenv\\pyenv-win\\versions\\3.10.11\\lib\\site-packages (2.19.0)\n",
      "Requirement already satisfied: protobuf!=4.21.0,!=4.21.1,!=4.21.2,!=4.21.3,!=4.21.4,!=4.21.5,<6.0.0dev,>=3.20.3 in c:\\users\\karan\\.pyenv\\pyenv-win\\versions\\3.10.11\\lib\\site-packages (from tensorflow) (5.29.5)\n",
      "Requirement already satisfied: requests<3,>=2.21.0 in c:\\users\\karan\\.pyenv\\pyenv-win\\versions\\3.10.11\\lib\\site-packages (from tensorflow) (2.32.4)\n",
      "Requirement already satisfied: packaging in c:\\users\\karan\\.pyenv\\pyenv-win\\versions\\3.10.11\\lib\\site-packages (from tensorflow) (25.0)\n",
      "Requirement already satisfied: grpcio<2.0,>=1.24.3 in c:\\users\\karan\\.pyenv\\pyenv-win\\versions\\3.10.11\\lib\\site-packages (from tensorflow) (1.73.1)\n",
      "Requirement already satisfied: termcolor>=1.1.0 in c:\\users\\karan\\.pyenv\\pyenv-win\\versions\\3.10.11\\lib\\site-packages (from tensorflow) (3.1.0)\n",
      "Requirement already satisfied: keras>=3.5.0 in c:\\users\\karan\\.pyenv\\pyenv-win\\versions\\3.10.11\\lib\\site-packages (from tensorflow) (3.10.0)\n",
      "Requirement already satisfied: ml-dtypes<1.0.0,>=0.5.1 in c:\\users\\karan\\.pyenv\\pyenv-win\\versions\\3.10.11\\lib\\site-packages (from tensorflow) (0.5.1)\n",
      "Requirement already satisfied: h5py>=3.11.0 in c:\\users\\karan\\.pyenv\\pyenv-win\\versions\\3.10.11\\lib\\site-packages (from tensorflow) (3.14.0)\n",
      "Requirement already satisfied: tensorboard~=2.19.0 in c:\\users\\karan\\.pyenv\\pyenv-win\\versions\\3.10.11\\lib\\site-packages (from tensorflow) (2.19.0)\n",
      "Requirement already satisfied: flatbuffers>=24.3.25 in c:\\users\\karan\\.pyenv\\pyenv-win\\versions\\3.10.11\\lib\\site-packages (from tensorflow) (25.2.10)\n",
      "Requirement already satisfied: six>=1.12.0 in c:\\users\\karan\\.pyenv\\pyenv-win\\versions\\3.10.11\\lib\\site-packages (from tensorflow) (1.17.0)\n",
      "Requirement already satisfied: setuptools in c:\\users\\karan\\.pyenv\\pyenv-win\\versions\\3.10.11\\lib\\site-packages (from tensorflow) (65.5.0)\n",
      "Requirement already satisfied: wrapt>=1.11.0 in c:\\users\\karan\\.pyenv\\pyenv-win\\versions\\3.10.11\\lib\\site-packages (from tensorflow) (1.17.2)\n",
      "Requirement already satisfied: tensorflow-io-gcs-filesystem>=0.23.1 in c:\\users\\karan\\.pyenv\\pyenv-win\\versions\\3.10.11\\lib\\site-packages (from tensorflow) (0.31.0)\n",
      "Requirement already satisfied: typing-extensions>=3.6.6 in c:\\users\\karan\\.pyenv\\pyenv-win\\versions\\3.10.11\\lib\\site-packages (from tensorflow) (4.14.0)\n",
      "Requirement already satisfied: libclang>=13.0.0 in c:\\users\\karan\\.pyenv\\pyenv-win\\versions\\3.10.11\\lib\\site-packages (from tensorflow) (18.1.1)\n",
      "Requirement already satisfied: astunparse>=1.6.0 in c:\\users\\karan\\.pyenv\\pyenv-win\\versions\\3.10.11\\lib\\site-packages (from tensorflow) (1.6.3)\n",
      "Requirement already satisfied: opt-einsum>=2.3.2 in c:\\users\\karan\\.pyenv\\pyenv-win\\versions\\3.10.11\\lib\\site-packages (from tensorflow) (3.4.0)\n",
      "Requirement already satisfied: absl-py>=1.0.0 in c:\\users\\karan\\.pyenv\\pyenv-win\\versions\\3.10.11\\lib\\site-packages (from tensorflow) (2.3.0)\n",
      "Requirement already satisfied: google-pasta>=0.1.1 in c:\\users\\karan\\.pyenv\\pyenv-win\\versions\\3.10.11\\lib\\site-packages (from tensorflow) (0.2.0)\n",
      "Requirement already satisfied: numpy<2.2.0,>=1.26.0 in c:\\users\\karan\\.pyenv\\pyenv-win\\versions\\3.10.11\\lib\\site-packages (from tensorflow) (2.1.3)\n",
      "Requirement already satisfied: gast!=0.5.0,!=0.5.1,!=0.5.2,>=0.2.1 in c:\\users\\karan\\.pyenv\\pyenv-win\\versions\\3.10.11\\lib\\site-packages (from tensorflow) (0.6.0)\n",
      "Requirement already satisfied: wheel<1.0,>=0.23.0 in c:\\users\\karan\\.pyenv\\pyenv-win\\versions\\3.10.11\\lib\\site-packages (from astunparse>=1.6.0->tensorflow) (0.45.1)\n",
      "Requirement already satisfied: optree in c:\\users\\karan\\.pyenv\\pyenv-win\\versions\\3.10.11\\lib\\site-packages (from keras>=3.5.0->tensorflow) (0.16.0)\n",
      "Requirement already satisfied: namex in c:\\users\\karan\\.pyenv\\pyenv-win\\versions\\3.10.11\\lib\\site-packages (from keras>=3.5.0->tensorflow) (0.1.0)\n",
      "Requirement already satisfied: rich in c:\\users\\karan\\.pyenv\\pyenv-win\\versions\\3.10.11\\lib\\site-packages (from keras>=3.5.0->tensorflow) (14.0.0)\n",
      "Requirement already satisfied: charset_normalizer<4,>=2 in c:\\users\\karan\\.pyenv\\pyenv-win\\versions\\3.10.11\\lib\\site-packages (from requests<3,>=2.21.0->tensorflow) (3.4.2)\n",
      "Requirement already satisfied: urllib3<3,>=1.21.1 in c:\\users\\karan\\.pyenv\\pyenv-win\\versions\\3.10.11\\lib\\site-packages (from requests<3,>=2.21.0->tensorflow) (2.5.0)\n",
      "Requirement already satisfied: idna<4,>=2.5 in c:\\users\\karan\\.pyenv\\pyenv-win\\versions\\3.10.11\\lib\\site-packages (from requests<3,>=2.21.0->tensorflow) (3.10)\n",
      "Requirement already satisfied: certifi>=2017.4.17 in c:\\users\\karan\\.pyenv\\pyenv-win\\versions\\3.10.11\\lib\\site-packages (from requests<3,>=2.21.0->tensorflow) (2025.6.15)\n",
      "Requirement already satisfied: markdown>=2.6.8 in c:\\users\\karan\\.pyenv\\pyenv-win\\versions\\3.10.11\\lib\\site-packages (from tensorboard~=2.19.0->tensorflow) (3.8.2)\n",
      "Requirement already satisfied: werkzeug>=1.0.1 in c:\\users\\karan\\.pyenv\\pyenv-win\\versions\\3.10.11\\lib\\site-packages (from tensorboard~=2.19.0->tensorflow) (3.1.3)\n",
      "Requirement already satisfied: tensorboard-data-server<0.8.0,>=0.7.0 in c:\\users\\karan\\.pyenv\\pyenv-win\\versions\\3.10.11\\lib\\site-packages (from tensorboard~=2.19.0->tensorflow) (0.7.2)\n",
      "Requirement already satisfied: MarkupSafe>=2.1.1 in c:\\users\\karan\\.pyenv\\pyenv-win\\versions\\3.10.11\\lib\\site-packages (from werkzeug>=1.0.1->tensorboard~=2.19.0->tensorflow) (3.0.2)\n",
      "Requirement already satisfied: pygments<3.0.0,>=2.13.0 in c:\\users\\karan\\.pyenv\\pyenv-win\\versions\\3.10.11\\lib\\site-packages (from rich->keras>=3.5.0->tensorflow) (2.19.2)\n",
      "Requirement already satisfied: markdown-it-py>=2.2.0 in c:\\users\\karan\\.pyenv\\pyenv-win\\versions\\3.10.11\\lib\\site-packages (from rich->keras>=3.5.0->tensorflow) (3.0.0)\n",
      "Requirement already satisfied: mdurl~=0.1 in c:\\users\\karan\\.pyenv\\pyenv-win\\versions\\3.10.11\\lib\\site-packages (from markdown-it-py>=2.2.0->rich->keras>=3.5.0->tensorflow) (0.1.2)\n",
      "Note: you may need to restart the kernel to use updated packages.\n",
      "2.19.0\n"
     ]
    },
    {
     "name": "stderr",
     "output_type": "stream",
     "text": [
      "\n",
      "[notice] A new release of pip is available: 23.0.1 -> 25.1.1\n",
      "[notice] To update, run: c:\\Users\\karan\\.pyenv\\pyenv-win\\versions\\3.10.11\\python.exe -m pip install --upgrade pip\n"
     ]
    }
   ],
   "source": [
    "# Q22. How do you install and verify that TensorFlow 2.0 was installed successfully?\n",
    "%pip install tensorflow\n",
    "import tensorflow as tf\n",
    "print(tf.__version__)"
   ]
  },
  {
   "cell_type": "code",
   "execution_count": 19,
   "id": "41f4223a",
   "metadata": {},
   "outputs": [
    {
     "name": "stdout",
     "output_type": "stream",
     "text": [
      "5\n"
     ]
    }
   ],
   "source": [
    "# Q23. How can you define a simple function in TensorFlow 2.0 to perform addition?\n",
    "import tensorflow as tf\n",
    "@tf.function\n",
    "def add(a, b):\n",
    "    return a + b\n",
    "print(add(2, 3).numpy())"
   ]
  },
  {
   "cell_type": "code",
   "execution_count": 20,
   "id": "e21a8b4e",
   "metadata": {},
   "outputs": [
    {
     "name": "stderr",
     "output_type": "stream",
     "text": [
      "c:\\Users\\karan\\.pyenv\\pyenv-win\\versions\\3.10.11\\lib\\site-packages\\keras\\src\\layers\\core\\dense.py:93: UserWarning: Do not pass an `input_shape`/`input_dim` argument to a layer. When using Sequential models, prefer using an `Input(shape)` object as the first layer in the model instead.\n",
      "  super().__init__(activity_regularizer=activity_regularizer, **kwargs)\n"
     ]
    },
    {
     "data": {
      "text/html": [
       "<pre style=\"white-space:pre;overflow-x:auto;line-height:normal;font-family:Menlo,'DejaVu Sans Mono',consolas,'Courier New',monospace\"><span style=\"font-weight: bold\">Model: \"sequential_3\"</span>\n",
       "</pre>\n"
      ],
      "text/plain": [
       "\u001b[1mModel: \"sequential_3\"\u001b[0m\n"
      ]
     },
     "metadata": {},
     "output_type": "display_data"
    },
    {
     "data": {
      "text/html": [
       "<pre style=\"white-space:pre;overflow-x:auto;line-height:normal;font-family:Menlo,'DejaVu Sans Mono',consolas,'Courier New',monospace\">┏━━━━━━━━━━━━━━━━━━━━━━━━━━━━━━━━━┳━━━━━━━━━━━━━━━━━━━━━━━━┳━━━━━━━━━━━━━━━┓\n",
       "┃<span style=\"font-weight: bold\"> Layer (type)                    </span>┃<span style=\"font-weight: bold\"> Output Shape           </span>┃<span style=\"font-weight: bold\">       Param # </span>┃\n",
       "┡━━━━━━━━━━━━━━━━━━━━━━━━━━━━━━━━━╇━━━━━━━━━━━━━━━━━━━━━━━━╇━━━━━━━━━━━━━━━┩\n",
       "│ dense_6 (<span style=\"color: #0087ff; text-decoration-color: #0087ff\">Dense</span>)                 │ (<span style=\"color: #00d7ff; text-decoration-color: #00d7ff\">None</span>, <span style=\"color: #00af00; text-decoration-color: #00af00\">16</span>)             │            <span style=\"color: #00af00; text-decoration-color: #00af00\">80</span> │\n",
       "├─────────────────────────────────┼────────────────────────┼───────────────┤\n",
       "│ dense_7 (<span style=\"color: #0087ff; text-decoration-color: #0087ff\">Dense</span>)                 │ (<span style=\"color: #00d7ff; text-decoration-color: #00d7ff\">None</span>, <span style=\"color: #00af00; text-decoration-color: #00af00\">3</span>)              │            <span style=\"color: #00af00; text-decoration-color: #00af00\">51</span> │\n",
       "└─────────────────────────────────┴────────────────────────┴───────────────┘\n",
       "</pre>\n"
      ],
      "text/plain": [
       "┏━━━━━━━━━━━━━━━━━━━━━━━━━━━━━━━━━┳━━━━━━━━━━━━━━━━━━━━━━━━┳━━━━━━━━━━━━━━━┓\n",
       "┃\u001b[1m \u001b[0m\u001b[1mLayer (type)                   \u001b[0m\u001b[1m \u001b[0m┃\u001b[1m \u001b[0m\u001b[1mOutput Shape          \u001b[0m\u001b[1m \u001b[0m┃\u001b[1m \u001b[0m\u001b[1m      Param #\u001b[0m\u001b[1m \u001b[0m┃\n",
       "┡━━━━━━━━━━━━━━━━━━━━━━━━━━━━━━━━━╇━━━━━━━━━━━━━━━━━━━━━━━━╇━━━━━━━━━━━━━━━┩\n",
       "│ dense_6 (\u001b[38;5;33mDense\u001b[0m)                 │ (\u001b[38;5;45mNone\u001b[0m, \u001b[38;5;34m16\u001b[0m)             │            \u001b[38;5;34m80\u001b[0m │\n",
       "├─────────────────────────────────┼────────────────────────┼───────────────┤\n",
       "│ dense_7 (\u001b[38;5;33mDense\u001b[0m)                 │ (\u001b[38;5;45mNone\u001b[0m, \u001b[38;5;34m3\u001b[0m)              │            \u001b[38;5;34m51\u001b[0m │\n",
       "└─────────────────────────────────┴────────────────────────┴───────────────┘\n"
      ]
     },
     "metadata": {},
     "output_type": "display_data"
    },
    {
     "data": {
      "text/html": [
       "<pre style=\"white-space:pre;overflow-x:auto;line-height:normal;font-family:Menlo,'DejaVu Sans Mono',consolas,'Courier New',monospace\"><span style=\"font-weight: bold\"> Total params: </span><span style=\"color: #00af00; text-decoration-color: #00af00\">131</span> (524.00 B)\n",
       "</pre>\n"
      ],
      "text/plain": [
       "\u001b[1m Total params: \u001b[0m\u001b[38;5;34m131\u001b[0m (524.00 B)\n"
      ]
     },
     "metadata": {},
     "output_type": "display_data"
    },
    {
     "data": {
      "text/html": [
       "<pre style=\"white-space:pre;overflow-x:auto;line-height:normal;font-family:Menlo,'DejaVu Sans Mono',consolas,'Courier New',monospace\"><span style=\"font-weight: bold\"> Trainable params: </span><span style=\"color: #00af00; text-decoration-color: #00af00\">131</span> (524.00 B)\n",
       "</pre>\n"
      ],
      "text/plain": [
       "\u001b[1m Trainable params: \u001b[0m\u001b[38;5;34m131\u001b[0m (524.00 B)\n"
      ]
     },
     "metadata": {},
     "output_type": "display_data"
    },
    {
     "data": {
      "text/html": [
       "<pre style=\"white-space:pre;overflow-x:auto;line-height:normal;font-family:Menlo,'DejaVu Sans Mono',consolas,'Courier New',monospace\"><span style=\"font-weight: bold\"> Non-trainable params: </span><span style=\"color: #00af00; text-decoration-color: #00af00\">0</span> (0.00 B)\n",
       "</pre>\n"
      ],
      "text/plain": [
       "\u001b[1m Non-trainable params: \u001b[0m\u001b[38;5;34m0\u001b[0m (0.00 B)\n"
      ]
     },
     "metadata": {},
     "output_type": "display_data"
    }
   ],
   "source": [
    "# Q24. How can you create a simple neural network in TensorFlow 2.0 with one hidden layer?\n",
    "import tensorflow as tf\n",
    "from tensorflow.keras import Sequential\n",
    "from tensorflow.keras.layers import Dense\n",
    "\n",
    "model = Sequential([\n",
    "    Dense(16, activation='relu', input_shape=(4,)),\n",
    "    Dense(3, activation='softmax')\n",
    "])\n",
    "model.summary()"
   ]
  },
  {
   "cell_type": "code",
   "execution_count": 21,
   "id": "aca8cdef",
   "metadata": {},
   "outputs": [
    {
     "data": {
      "image/png": "[encoded data removed]",
      "text/plain": [
       "<Figure size 640x480 with 1 Axes>"
      ]
     },
     "metadata": {},
     "output_type": "display_data"
    }
   ],
   "source": [
    "# Q25. How can you visualize the training progress using TensorFlow and Matplotlib?\n",
    "import matplotlib.pyplot as plt\n",
    "import tensorflow as tf\n",
    "from tensorflow.keras import Sequential\n",
    "from tensorflow.keras.layers import Dense\n",
    "import numpy as np\n",
    "\n",
    "# Dummy data\n",
    "X = np.random.rand(100, 4)\n",
    "y = np.random.randint(0, 3, 100)\n",
    "\n",
    "model = Sequential([\n",
    "    Dense(16, activation='relu', input_shape=(4,)),\n",
    "    Dense(3, activation='softmax')\n",
    "])\n",
    "model.compile(optimizer='adam', loss='sparse_categorical_crossentropy', metrics=['accuracy'])\n",
    "history = model.fit(X, y, epochs=10, verbose=0)\n",
    "\n",
    "plt.plot(history.history['loss'])\n",
    "plt.title('Model Loss')\n",
    "plt.xlabel('Epoch')\n",
    "plt.ylabel('Loss')\n",
    "plt.show()"
   ]
  },
  {
   "cell_type": "code",
   "execution_count": 22,
   "id": "b2bb9f35",
   "metadata": {},
   "outputs": [
    {
     "name": "stdout",
     "output_type": "stream",
     "text": [
      "2.7.1+cpu\n"
     ]
    }
   ],
   "source": [
    "# Q26. How do you install PyTorch and verify the PyTorch installation?\n",
    "\n",
    "import torch as tc\n",
    "print(tc.__version__)"
   ]
  },
  {
   "cell_type": "code",
   "execution_count": 23,
   "id": "0a4a982e",
   "metadata": {},
   "outputs": [
    {
     "name": "stdout",
     "output_type": "stream",
     "text": [
      "SimpleNN(\n",
      "  (fc1): Linear(in_features=4, out_features=16, bias=True)\n",
      "  (relu): ReLU()\n",
      "  (fc2): Linear(in_features=16, out_features=3, bias=True)\n",
      "  (softmax): Softmax(dim=1)\n",
      ")\n"
     ]
    }
   ],
   "source": [
    "# Q27. How do you create a simple neural network in PyTorch?\n",
    "import torch\n",
    "import torch.nn as nn\n",
    "\n",
    "class SimpleNN(nn.Module):\n",
    "    def __init__(self):\n",
    "        super(SimpleNN, self).__init__()\n",
    "        self.fc1 = nn.Linear(4, 16)\n",
    "        self.relu = nn.ReLU()\n",
    "        self.fc2 = nn.Linear(16, 3)\n",
    "        self.softmax = nn.Softmax(dim=1)\n",
    "    def forward(self, x):\n",
    "        x = self.fc1(x)\n",
    "        x = self.relu(x)\n",
    "        x = self.fc2(x)\n",
    "        x = self.softmax(x)\n",
    "        return x\n",
    "\n",
    "model = SimpleNN()\n",
    "print(model)"
   ]
  },
  {
   "cell_type": "code",
   "execution_count": 24,
   "id": "563cb8ff",
   "metadata": {},
   "outputs": [],
   "source": [
    "# Q28. How do you define a loss function and optimizer in PyTorch?\n",
    "import torch.optim as optim\n",
    "import torch.nn as nn\n",
    "\n",
    "model = nn.Linear(4, 3)\n",
    "criterion = nn.CrossEntropyLoss()\n",
    "optimizer = optim.Adam(model.parameters(), lr=0.001)"
   ]
  },
  {
   "cell_type": "code",
   "execution_count": 25,
   "id": "8f916ad0",
   "metadata": {},
   "outputs": [
    {
     "name": "stdout",
     "output_type": "stream",
     "text": [
      "0.12666666507720947\n"
     ]
    }
   ],
   "source": [
    "# Q29. How do you implement a custom loss function in PyTorch?\n",
    "import torch\n",
    "import torch.nn as nn\n",
    "\n",
    "def custom_loss(output, target):\n",
    "    return torch.mean((output - target) ** 2)\n",
    "\n",
    "# Example usage\n",
    "output = torch.tensor([[0.2, 0.3, 0.5]])\n",
    "target = torch.tensor([[0., 0., 1.]])\n",
    "loss = custom_loss(output, target)\n",
    "print(loss.item())"
   ]
  },
  {
   "cell_type": "code",
   "execution_count": 26,
   "id": "6b6b22f2",
   "metadata": {},
   "outputs": [
    {
     "name": "stderr",
     "output_type": "stream",
     "text": [
      "c:\\Users\\karan\\.pyenv\\pyenv-win\\versions\\3.10.11\\lib\\site-packages\\keras\\src\\layers\\core\\dense.py:93: UserWarning: Do not pass an `input_shape`/`input_dim` argument to a layer. When using Sequential models, prefer using an `Input(shape)` object as the first layer in the model instead.\n",
      "  super().__init__(activity_regularizer=activity_regularizer, **kwargs)\n",
      "WARNING:absl:You are saving your model as an HDF5 file via `model.save()` or `keras.saving.save_model(model)`. This file format is considered legacy. We recommend using instead the native Keras format, e.g. `model.save('my_model.keras')` or `keras.saving.save_model(model, 'my_model.keras')`. \n",
      "WARNING:absl:No training configuration found in the save file, so the model was *not* compiled. Compile it manually.\n"
     ]
    },
    {
     "data": {
      "text/html": [
       "<pre style=\"white-space:pre;overflow-x:auto;line-height:normal;font-family:Menlo,'DejaVu Sans Mono',consolas,'Courier New',monospace\"><span style=\"font-weight: bold\">Model: \"sequential_5\"</span>\n",
       "</pre>\n"
      ],
      "text/plain": [
       "\u001b[1mModel: \"sequential_5\"\u001b[0m\n"
      ]
     },
     "metadata": {},
     "output_type": "display_data"
    },
    {
     "data": {
      "text/html": [
       "<pre style=\"white-space:pre;overflow-x:auto;line-height:normal;font-family:Menlo,'DejaVu Sans Mono',consolas,'Courier New',monospace\">┏━━━━━━━━━━━━━━━━━━━━━━━━━━━━━━━━━┳━━━━━━━━━━━━━━━━━━━━━━━━┳━━━━━━━━━━━━━━━┓\n",
       "┃<span style=\"font-weight: bold\"> Layer (type)                    </span>┃<span style=\"font-weight: bold\"> Output Shape           </span>┃<span style=\"font-weight: bold\">       Param # </span>┃\n",
       "┡━━━━━━━━━━━━━━━━━━━━━━━━━━━━━━━━━╇━━━━━━━━━━━━━━━━━━━━━━━━╇━━━━━━━━━━━━━━━┩\n",
       "│ dense_10 (<span style=\"color: #0087ff; text-decoration-color: #0087ff\">Dense</span>)                │ (<span style=\"color: #00d7ff; text-decoration-color: #00d7ff\">None</span>, <span style=\"color: #00af00; text-decoration-color: #00af00\">16</span>)             │            <span style=\"color: #00af00; text-decoration-color: #00af00\">80</span> │\n",
       "├─────────────────────────────────┼────────────────────────┼───────────────┤\n",
       "│ dense_11 (<span style=\"color: #0087ff; text-decoration-color: #0087ff\">Dense</span>)                │ (<span style=\"color: #00d7ff; text-decoration-color: #00d7ff\">None</span>, <span style=\"color: #00af00; text-decoration-color: #00af00\">3</span>)              │            <span style=\"color: #00af00; text-decoration-color: #00af00\">51</span> │\n",
       "└─────────────────────────────────┴────────────────────────┴───────────────┘\n",
       "</pre>\n"
      ],
      "text/plain": [
       "┏━━━━━━━━━━━━━━━━━━━━━━━━━━━━━━━━━┳━━━━━━━━━━━━━━━━━━━━━━━━┳━━━━━━━━━━━━━━━┓\n",
       "┃\u001b[1m \u001b[0m\u001b[1mLayer (type)                   \u001b[0m\u001b[1m \u001b[0m┃\u001b[1m \u001b[0m\u001b[1mOutput Shape          \u001b[0m\u001b[1m \u001b[0m┃\u001b[1m \u001b[0m\u001b[1m      Param #\u001b[0m\u001b[1m \u001b[0m┃\n",
       "┡━━━━━━━━━━━━━━━━━━━━━━━━━━━━━━━━━╇━━━━━━━━━━━━━━━━━━━━━━━━╇━━━━━━━━━━━━━━━┩\n",
       "│ dense_10 (\u001b[38;5;33mDense\u001b[0m)                │ (\u001b[38;5;45mNone\u001b[0m, \u001b[38;5;34m16\u001b[0m)             │            \u001b[38;5;34m80\u001b[0m │\n",
       "├─────────────────────────────────┼────────────────────────┼───────────────┤\n",
       "│ dense_11 (\u001b[38;5;33mDense\u001b[0m)                │ (\u001b[38;5;45mNone\u001b[0m, \u001b[38;5;34m3\u001b[0m)              │            \u001b[38;5;34m51\u001b[0m │\n",
       "└─────────────────────────────────┴────────────────────────┴───────────────┘\n"
      ]
     },
     "metadata": {},
     "output_type": "display_data"
    },
    {
     "data": {
      "text/html": [
       "<pre style=\"white-space:pre;overflow-x:auto;line-height:normal;font-family:Menlo,'DejaVu Sans Mono',consolas,'Courier New',monospace\"><span style=\"font-weight: bold\"> Total params: </span><span style=\"color: #00af00; text-decoration-color: #00af00\">131</span> (524.00 B)\n",
       "</pre>\n"
      ],
      "text/plain": [
       "\u001b[1m Total params: \u001b[0m\u001b[38;5;34m131\u001b[0m (524.00 B)\n"
      ]
     },
     "metadata": {},
     "output_type": "display_data"
    },
    {
     "data": {
      "text/html": [
       "<pre style=\"white-space:pre;overflow-x:auto;line-height:normal;font-family:Menlo,'DejaVu Sans Mono',consolas,'Courier New',monospace\"><span style=\"font-weight: bold\"> Trainable params: </span><span style=\"color: #00af00; text-decoration-color: #00af00\">131</span> (524.00 B)\n",
       "</pre>\n"
      ],
      "text/plain": [
       "\u001b[1m Trainable params: \u001b[0m\u001b[38;5;34m131\u001b[0m (524.00 B)\n"
      ]
     },
     "metadata": {},
     "output_type": "display_data"
    },
    {
     "data": {
      "text/html": [
       "<pre style=\"white-space:pre;overflow-x:auto;line-height:normal;font-family:Menlo,'DejaVu Sans Mono',consolas,'Courier New',monospace\"><span style=\"font-weight: bold\"> Non-trainable params: </span><span style=\"color: #00af00; text-decoration-color: #00af00\">0</span> (0.00 B)\n",
       "</pre>\n"
      ],
      "text/plain": [
       "\u001b[1m Non-trainable params: \u001b[0m\u001b[38;5;34m0\u001b[0m (0.00 B)\n"
      ]
     },
     "metadata": {},
     "output_type": "display_data"
    }
   ],
   "source": [
    "# Q30. How do you save and load a TensorFlow model?\n",
    "import tensorflow as tf\n",
    "from tensorflow.keras import Sequential\n",
    "from tensorflow.keras.layers import Dense\n",
    "\n",
    "model = Sequential([\n",
    "    Dense(16, activation='relu', input_shape=(4,)),\n",
    "    Dense(3, activation='softmax')\n",
    "])\n",
    "model.save('my_model.h5')\n",
    "\n",
    "# Load model\n",
    "loaded_model = tf.keras.models.load_model('my_model.h5')\n",
    "loaded_model.summary()"
   ]
  }
 ],
 "metadata": {
  "kernelspec": {
   "display_name": "Python 3",
   "language": "python",
   "name": "python3"
  },
  "language_info": {
   "codemirror_mode": {
    "name": "ipython",
    "version": 3
   },
   "file_extension": ".py",
   "mimetype": "text/x-python",
   "name": "python",
   "nbconvert_exporter": "python",
   "pygments_lexer": "ipython3",
   "version": "3.10.11"
  }
 },
 "nbformat": 4,
 "nbformat_minor": 5
}
